{
  "nbformat": 4,
  "nbformat_minor": 0,
  "metadata": {
    "colab": {
      "name": "VaderSentiment.ipynb",
      "provenance": [],
      "authorship_tag": "ABX9TyMHQlqUbp3gTB+g1m9VZZlk",
      "include_colab_link": true
    },
    "kernelspec": {
      "name": "python3",
      "display_name": "Python 3"
    }
  },
  "cells": [
    {
      "cell_type": "markdown",
      "metadata": {
        "id": "view-in-github",
        "colab_type": "text"
      },
      "source": [
        "<a href=\"https://colab.research.google.com/github/SoumyadeepDebnath/NLP_Libraries/blob/master/VaderSentiment.ipynb\" target=\"_parent\"><img src=\"https://colab.research.google.com/assets/colab-badge.svg\" alt=\"Open In Colab\"/></a>"
      ]
    },
    {
      "cell_type": "markdown",
      "metadata": {
        "id": "24jRBnsNOci-",
        "colab_type": "text"
      },
      "source": [
        "# **VaderSentiment Operations - NLP**"
      ]
    },
    {
      "cell_type": "markdown",
      "metadata": {
        "id": "Ue-e4CMQOcSz",
        "colab_type": "text"
      },
      "source": [
        "VADER (Valence Aware Dictionary and sEntiment Reasoner)\n",
        "1. Data Preprocessing Tasks (Tokenization, Word Inflection and Lemmatization, Language Detection and Translation, Spelling Correction,"
      ]
    },
    {
      "cell_type": "markdown",
      "metadata": {
        "id": "K_TnGE5kPHIT",
        "colab_type": "text"
      },
      "source": [
        "### **Setup in Colab Notebook**"
      ]
    },
    {
      "cell_type": "code",
      "metadata": {
        "id": "6tRfAdt5fgzX",
        "colab_type": "code",
        "outputId": "ff2d77a4-37b8-40cb-e843-d6e4c8f8b173",
        "colab": {
          "base_uri": "https://localhost:8080/",
          "height": 122
        }
      },
      "source": [
        "!pip install vaderSentiment\n",
        "from vaderSentiment.vaderSentiment import SentimentIntensityAnalyzer"
      ],
      "execution_count": 0,
      "outputs": [
        {
          "output_type": "stream",
          "text": [
            "Collecting vaderSentiment\n",
            "\u001b[?25l  Downloading https://files.pythonhosted.org/packages/44/a3/1218a3b5651dbcba1699101c84e5c84c36cbba360d9dbf29f2ff18482982/vaderSentiment-3.3.1-py2.py3-none-any.whl (125kB)\n",
            "\r\u001b[K     |██▋                             | 10kB 19.5MB/s eta 0:00:01\r\u001b[K     |█████▏                          | 20kB 2.7MB/s eta 0:00:01\r\u001b[K     |███████▉                        | 30kB 3.7MB/s eta 0:00:01\r\u001b[K     |██████████▍                     | 40kB 3.0MB/s eta 0:00:01\r\u001b[K     |█████████████                   | 51kB 3.4MB/s eta 0:00:01\r\u001b[K     |███████████████▋                | 61kB 4.0MB/s eta 0:00:01\r\u001b[K     |██████████████████▎             | 71kB 4.2MB/s eta 0:00:01\r\u001b[K     |████████████████████▉           | 81kB 4.8MB/s eta 0:00:01\r\u001b[K     |███████████████████████▍        | 92kB 4.6MB/s eta 0:00:01\r\u001b[K     |██████████████████████████      | 102kB 4.6MB/s eta 0:00:01\r\u001b[K     |████████████████████████████▋   | 112kB 4.6MB/s eta 0:00:01\r\u001b[K     |███████████████████████████████▎| 122kB 4.6MB/s eta 0:00:01\r\u001b[K     |████████████████████████████████| 133kB 4.6MB/s \n",
            "\u001b[?25hInstalling collected packages: vaderSentiment\n",
            "Successfully installed vaderSentiment-3.3.1\n"
          ],
          "name": "stdout"
        }
      ]
    },
    {
      "cell_type": "code",
      "metadata": {
        "id": "cl40268qeKIs",
        "colab_type": "code",
        "outputId": "41ccee3b-694e-488e-e175-19dc46b1aa8b",
        "colab": {
          "base_uri": "https://localhost:8080/",
          "height": 289
        }
      },
      "source": [
        "sentences = [\n",
        "             \"VADER is smart, handsome, and funny.\",  # positive sentence example\n",
        "             \"VADER is smart, handsome, and funny!\",  # punctuation emphasis handled correctly (sentiment intensity adjusted)\n",
        "             \"VADER is very smart, handsome, and funny.\", # booster words handled correctly (sentiment intensity adjusted)\n",
        "             \"VADER is VERY SMART, handsome, and FUNNY.\",  # emphasis for ALLCAPS handled\n",
        "             \"VADER is VERY SMART, handsome, and FUNNY!!!\", # combination of signals - VADER appropriately adjusts intensity\n",
        "             \"VADER is VERY SMART, uber handsome, and FRIGGIN FUNNY!!!\", # booster words & punctuation make this close to ceiling for score\n",
        "             \"VADER is not smart, handsome, nor funny.\",  # negation sentence example\n",
        "             \"The book was good.\",  # positive sentence\n",
        "             \"At least it isn't a horrible book.\",  # negated negative sentence with contraction\n",
        "             \"The book was only kind of good.\", # qualified positive sentence is handled correctly (intensity adjusted)\n",
        "             \"The plot was good, but the characters are uncompelling and the dialog is not great.\", # mixed negation sentence\n",
        "             \"Today SUX!\",  # negative slang with capitalization emphasis\n",
        "             \"Today only kinda sux! But I'll get by, lol\", # mixed sentiment example with slang and constrastive conjunction \"but\"\n",
        "             \"Make sure you :) or :D today!\",  # emoticons handled\n",
        "             \"Catch utf-8 emoji such as such as 💘 and 💋 and 😁\",  # emojis handled\n",
        "             \"Not bad at all\"  # Capitalized negation\n",
        "            ]\n",
        "\n",
        "analyzer = SentimentIntensityAnalyzer()\n",
        "for sentence in sentences:\n",
        "    vs = analyzer.polarity_scores(sentence)\n",
        "    print(\"{:-<65} {}\".format(sentence, str(vs)))"
      ],
      "execution_count": 0,
      "outputs": [
        {
          "output_type": "stream",
          "text": [
            "VADER is smart, handsome, and funny.----------------------------- {'neg': 0.0, 'neu': 0.254, 'pos': 0.746, 'compound': 0.8316}\n",
            "VADER is smart, handsome, and funny!----------------------------- {'neg': 0.0, 'neu': 0.248, 'pos': 0.752, 'compound': 0.8439}\n",
            "VADER is very smart, handsome, and funny.------------------------ {'neg': 0.0, 'neu': 0.299, 'pos': 0.701, 'compound': 0.8545}\n",
            "VADER is VERY SMART, handsome, and FUNNY.------------------------ {'neg': 0.0, 'neu': 0.246, 'pos': 0.754, 'compound': 0.9227}\n",
            "VADER is VERY SMART, handsome, and FUNNY!!!---------------------- {'neg': 0.0, 'neu': 0.233, 'pos': 0.767, 'compound': 0.9342}\n",
            "VADER is VERY SMART, uber handsome, and FRIGGIN FUNNY!!!--------- {'neg': 0.0, 'neu': 0.294, 'pos': 0.706, 'compound': 0.9469}\n",
            "VADER is not smart, handsome, nor funny.------------------------- {'neg': 0.646, 'neu': 0.354, 'pos': 0.0, 'compound': -0.7424}\n",
            "The book was good.----------------------------------------------- {'neg': 0.0, 'neu': 0.508, 'pos': 0.492, 'compound': 0.4404}\n",
            "At least it isn't a horrible book.------------------------------- {'neg': 0.0, 'neu': 0.678, 'pos': 0.322, 'compound': 0.431}\n",
            "The book was only kind of good.---------------------------------- {'neg': 0.0, 'neu': 0.697, 'pos': 0.303, 'compound': 0.3832}\n",
            "The plot was good, but the characters are uncompelling and the dialog is not great. {'neg': 0.327, 'neu': 0.579, 'pos': 0.094, 'compound': -0.7042}\n",
            "Today SUX!------------------------------------------------------- {'neg': 0.779, 'neu': 0.221, 'pos': 0.0, 'compound': -0.5461}\n",
            "Today only kinda sux! But I'll get by, lol----------------------- {'neg': 0.127, 'neu': 0.556, 'pos': 0.317, 'compound': 0.5249}\n",
            "Make sure you :) or :D today!------------------------------------ {'neg': 0.0, 'neu': 0.294, 'pos': 0.706, 'compound': 0.8633}\n",
            "Catch utf-8 emoji such as such as 💘 and 💋 and 😁------------------ {'neg': 0.0, 'neu': 0.746, 'pos': 0.254, 'compound': 0.7003}\n",
            "Not bad at all--------------------------------------------------- {'neg': 0.0, 'neu': 0.513, 'pos': 0.487, 'compound': 0.431}\n"
          ],
          "name": "stdout"
        }
      ]
    }
  ]
}